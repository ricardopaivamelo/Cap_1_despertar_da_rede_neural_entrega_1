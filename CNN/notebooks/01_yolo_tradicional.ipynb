{
 "cells": [
  {
   "cell_type": "markdown",
   "id": "cell-0",
   "metadata": {},
   "source": [
    "# 01 - YOLO Tradicional\n",
    "\n",
    "Teste rápido do YOLO pré-treinado (zero setup)."
   ]
  },
  {
   "cell_type": "markdown",
   "id": "cell-1",
   "metadata": {},
   "source": [
    "## Setup"
   ]
  },
  {
   "cell_type": "code",
   "execution_count": null,
   "id": "cell-2",
   "metadata": {},
   "outputs": [],
   "source": [
    "import sys\n",
    "sys.path.append('../src')\n",
    "\n",
    "from pathlib import Path\n",
    "import time\n",
    "import numpy as np\n",
    "import matplotlib.pyplot as plt\n",
    "import cv2\n",
    "from ultralytics import YOLO\n",
    "import torch\n",
    "\n",
    "from utils.visualization import plot_sample_images\n",
    "from utils.metrics import Timer\n",
    "\n",
    "DEVICE = 'cuda' if torch.cuda.is_available() else 'cpu'\n",
    "print(f\"Device: {DEVICE}\")"
   ]
  },
  {
   "cell_type": "markdown",
   "id": "cell-3",
   "metadata": {},
   "source": [
    "## Carregar YOLO"
   ]
  },
  {
   "cell_type": "code",
   "execution_count": null,
   "id": "cell-4",
   "metadata": {},
   "outputs": [],
   "source": [
    "model = YOLO('yolov8n.pt')\n",
    "print(f\"Modelo carregado: {len(model.names)} classes do COCO\")"
   ]
  },
  {
   "cell_type": "markdown",
   "id": "cell-5",
   "metadata": {},
   "source": [
    "## Testar em Imagens"
   ]
  },
  {
   "cell_type": "code",
   "execution_count": null,
   "id": "cell-6",
   "metadata": {},
   "outputs": [],
   "source": [
    "ROOT_DIR = Path('../')\n",
    "coffee_test = list((ROOT_DIR / 'Coffee' / 'Teste').glob('*.jpg'))[:4]\n",
    "mountains_test = list((ROOT_DIR / 'Mountains' / 'Teste').glob('*.jpg'))[:4]\n",
    "\n",
    "print(f\"Testando em {len(coffee_test + mountains_test)} imagens...\")\n",
    "\n",
    "results = model.predict(coffee_test + mountains_test, conf=0.25, device=DEVICE)\n",
    "print(\"Pronto!\")"
   ]
  },
  {
   "cell_type": "markdown",
   "id": "cell-7",
   "metadata": {},
   "source": [
    "## Visualizar Resultados"
   ]
  },
  {
   "cell_type": "code",
   "execution_count": null,
   "id": "cell-8",
   "metadata": {},
   "outputs": [],
   "source": [
    "fig, axes = plt.subplots(2, 4, figsize=(16, 8))\n",
    "axes = axes.flatten()\n",
    "\n",
    "for idx, (result, ax) in enumerate(zip(results, axes)):\n",
    "    img = result.plot()\n",
    "    img_rgb = cv2.cvtColor(img, cv2.COLOR_BGR2RGB)\n",
    "    \n",
    "    ax.imshow(img_rgb)\n",
    "    ax.axis('off')\n",
    "    ax.set_title(f'{len(result.boxes)} detecções')\n",
    "\n",
    "plt.tight_layout()\n",
    "plt.show()"
   ]
  },
  {
   "cell_type": "markdown",
   "id": "cell-9",
   "metadata": {},
   "source": [
    "## Medir Velocidade"
   ]
  },
  {
   "cell_type": "code",
   "execution_count": null,
   "id": "cell-10",
   "metadata": {},
   "outputs": [],
   "source": [
    "test_img = str(coffee_test[0])\n",
    "\n",
    "# Warm-up\n",
    "_ = model.predict(test_img, device=DEVICE, verbose=False)\n",
    "\n",
    "# Medir\n",
    "times = []\n",
    "for _ in range(20):\n",
    "    with Timer() as timer:\n",
    "        _ = model.predict(test_img, device=DEVICE, verbose=False)\n",
    "    times.append(timer.get_elapsed_time() * 1000)\n",
    "\n",
    "print(f\"Tempo médio: {np.mean(times):.2f}ms\")"
   ]
  },
  {
   "cell_type": "markdown",
   "id": "cell-11",
   "metadata": {},
   "source": [
    "## Conclusão\n",
    "\n",
    "YOLO pré-treinado:\n",
    "- Muito fácil de usar\n",
    "- Inferência ~200ms\n",
    "- Detecta objetos gerais (cup, bottle)\n",
    "- Não reconhece \"coffee\" ou \"mountains\" especificamente\n",
    "\n",
    "Para nosso problema, precisa de fine-tuning (notebook 02)."
   ]
  }
 ],
 "metadata": {
  "kernelspec": {
   "display_name": "Python 3",
   "language": "python",
   "name": "python3"
  },
  "language_info": {
   "name": "python",
   "version": "3.8.0"
  }
 },
 "nbformat": 4,
 "nbformat_minor": 5
}
