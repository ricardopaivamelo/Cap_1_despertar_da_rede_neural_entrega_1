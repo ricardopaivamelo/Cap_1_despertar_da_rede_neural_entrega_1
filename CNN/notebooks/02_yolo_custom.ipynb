{
 "cells": [
  {
   "cell_type": "markdown",
   "id": "cell-0",
   "metadata": {},
   "source": [
    "# 02 - YOLO Custom (Fine-Tuning)\n",
    "\n",
    "Treinar YOLO com nosso dataset (Coffee vs Mountains).\n",
    "\n",
    "Vamos testar 30 e 60 épocas para comparar."
   ]
  },
  {
   "cell_type": "markdown",
   "id": "cell-1",
   "metadata": {},
   "source": [
    "## Setup"
   ]
  },
  {
   "cell_type": "code",
   "execution_count": null,
   "id": "cell-2",
   "metadata": {},
   "outputs": [],
   "source": [
    "import sys\n",
    "sys.path.append('../src')\n",
    "\n",
    "from pathlib import Path\n",
    "import time\n",
    "import numpy as np\n",
    "import matplotlib.pyplot as plt\n",
    "from ultralytics import YOLO\n",
    "import torch\n",
    "import json\n",
    "\n",
    "from utils.metrics import Timer\n",
    "\n",
    "DEVICE = 'cuda' if torch.cuda.is_available() else 'cpu'\n",
    "print(f\"Device: {DEVICE}\")"
   ]
  },
  {
   "cell_type": "code",
   "execution_count": null,
   "id": "cell-3",
   "metadata": {},
   "outputs": [],
   "source": [
    "ROOT_DIR = Path('../')\n",
    "DATA_YAML = ROOT_DIR / 'dataset.yaml'\n",
    "RESULTS_DIR = ROOT_DIR / 'results' / 'yolo_custom'\n",
    "RESULTS_DIR.mkdir(parents=True, exist_ok=True)"
   ]
  },
  {
   "cell_type": "markdown",
   "id": "cell-4",
   "metadata": {},
   "source": [
    "## Experimento 1: 30 Épocas"
   ]
  },
  {
   "cell_type": "code",
   "execution_count": null,
   "id": "cell-5",
   "metadata": {},
   "outputs": [],
   "source": [
    "print(\"Treinando YOLO com 30 épocas...\")\n",
    "\n",
    "model_30 = YOLO('yolov8n.pt')\n",
    "\n",
    "start = time.time()\n",
    "results_30 = model_30.train(\n",
    "    data=str(DATA_YAML),\n",
    "    epochs=30,\n",
    "    imgsz=640,\n",
    "    batch=16,\n",
    "    patience=10,\n",
    "    project=str(RESULTS_DIR),\n",
    "    name='exp_30_epochs',\n",
    "    device=DEVICE\n",
    ")\n",
    "train_time_30 = time.time() - start\n",
    "\n",
    "print(f\"\\nTempo: {train_time_30/60:.1f} minutos\")"
   ]
  },
  {
   "cell_type": "code",
   "execution_count": null,
   "id": "cell-6",
   "metadata": {},
   "outputs": [],
   "source": [
    "metrics_30 = model_30.val()\n",
    "\n",
    "print(f\"\\nMétricas (30 épocas):\")\n",
    "print(f\"  Precision: {metrics_30.box.p[0]:.3f}\")\n",
    "print(f\"  Recall: {metrics_30.box.r[0]:.3f}\")\n",
    "print(f\"  mAP50: {metrics_30.box.map50:.3f}\")"
   ]
  },
  {
   "cell_type": "markdown",
   "id": "cell-7",
   "metadata": {},
   "source": [
    "## Experimento 2: 60 Épocas"
   ]
  },
  {
   "cell_type": "code",
   "execution_count": null,
   "id": "cell-8",
   "metadata": {},
   "outputs": [],
   "source": [
    "print(\"Treinando YOLO com 60 épocas...\")\n",
    "\n",
    "model_60 = YOLO('yolov8n.pt')\n",
    "\n",
    "start = time.time()\n",
    "results_60 = model_60.train(\n",
    "    data=str(DATA_YAML),\n",
    "    epochs=60,\n",
    "    imgsz=640,\n",
    "    batch=16,\n",
    "    patience=10,\n",
    "    project=str(RESULTS_DIR),\n",
    "    name='exp_60_epochs',\n",
    "    device=DEVICE\n",
    ")\n",
    "train_time_60 = time.time() - start\n",
    "\n",
    "print(f\"\\nTempo: {train_time_60/60:.1f} minutos\")"
   ]
  },
  {
   "cell_type": "code",
   "execution_count": null,
   "id": "cell-9",
   "metadata": {},
   "outputs": [],
   "source": [
    "metrics_60 = model_60.val()\n",
    "\n",
    "print(f\"\\nMétricas (60 épocas):\")\n",
    "print(f\"  Precision: {metrics_60.box.p[0]:.3f}\")\n",
    "print(f\"  Recall: {metrics_60.box.r[0]:.3f}\")\n",
    "print(f\"  mAP50: {metrics_60.box.map50:.3f}\")"
   ]
  },
  {
   "cell_type": "markdown",
   "id": "cell-10",
   "metadata": {},
   "source": [
    "## Comparação: 30 vs 60"
   ]
  },
  {
   "cell_type": "code",
   "execution_count": null,
   "id": "cell-11",
   "metadata": {},
   "outputs": [],
   "source": [
    "print(\"\\n\" + \"=\"*60)\n",
    "print(\"COMPARAÇÃO\")\n",
    "print(\"=\"*60)\n",
    "print(f\"{'Métrica':<20} {'30 Épocas':<15} {'60 Épocas':<15}\")\n",
    "print(\"-\"*60)\n",
    "print(f\"{'Precision':<20} {metrics_30.box.p[0]:<15.3f} {metrics_60.box.p[0]:<15.3f}\")\n",
    "print(f\"{'Recall':<20} {metrics_30.box.r[0]:<15.3f} {metrics_60.box.r[0]:<15.3f}\")\n",
    "print(f\"{'mAP50':<20} {metrics_30.box.map50:<15.3f} {metrics_60.box.map50:<15.3f}\")\n",
    "print(f\"{'Tempo (min)':<20} {train_time_30/60:<15.1f} {train_time_60/60:<15.1f}\")\n",
    "print(\"=\"*60)"
   ]
  },
  {
   "cell_type": "markdown",
   "id": "cell-12",
   "metadata": {},
   "source": [
    "## Medir Velocidade de Inferência"
   ]
  },
  {
   "cell_type": "code",
   "execution_count": null,
   "id": "cell-13",
   "metadata": {},
   "outputs": [],
   "source": [
    "test_img = str(list((ROOT_DIR / 'Coffee' / 'Teste').glob('*.jpg'))[0])\n",
    "\n",
    "def measure_speed(model, img, n=20):\n",
    "    _ = model.predict(img, device=DEVICE, verbose=False)\n",
    "    times = []\n",
    "    for _ in range(n):\n",
    "        with Timer() as t:\n",
    "            _ = model.predict(img, device=DEVICE, verbose=False)\n",
    "        times.append(t.get_elapsed_time() * 1000)\n",
    "    return np.mean(times)\n",
    "\n",
    "speed_30 = measure_speed(model_30, test_img)\n",
    "speed_60 = measure_speed(model_60, test_img)\n",
    "\n",
    "print(f\"\\nVelocidade de inferência:\")\n",
    "print(f\"  30 épocas: {speed_30:.2f}ms\")\n",
    "print(f\"  60 épocas: {speed_60:.2f}ms\")"
   ]
  },
  {
   "cell_type": "markdown",
   "id": "cell-14",
   "metadata": {},
   "source": [
    "## Salvar Resultados"
   ]
  },
  {
   "cell_type": "code",
   "execution_count": null,
   "id": "cell-15",
   "metadata": {},
   "outputs": [],
   "source": [
    "results = {\n",
    "    'model': 'YOLOv8n Custom',\n",
    "    'experiments': {\n",
    "        '30_epochs': {\n",
    "            'training_time_minutes': train_time_30 / 60,\n",
    "            'inference_time_ms': speed_30,\n",
    "            'metrics': {\n",
    "                'precision': float(metrics_30.box.p[0]),\n",
    "                'recall': float(metrics_30.box.r[0]),\n",
    "                'mAP50': float(metrics_30.box.map50)\n",
    "            }\n",
    "        },\n",
    "        '60_epochs': {\n",
    "            'training_time_minutes': train_time_60 / 60,\n",
    "            'inference_time_ms': speed_60,\n",
    "            'metrics': {\n",
    "                'precision': float(metrics_60.box.p[0]),\n",
    "                'recall': float(metrics_60.box.r[0]),\n",
    "                'mAP50': float(metrics_60.box.map50)\n",
    "            }\n",
    "        }\n",
    "    }\n",
    "}\n",
    "\n",
    "with open(RESULTS_DIR / 'metrics_summary.json', 'w') as f:\n",
    "    json.dump(results, f, indent=2)\n",
    "\n",
    "print(f\"\\nResultados salvos em: {RESULTS_DIR}\")"
   ]
  },
  {
   "cell_type": "markdown",
   "id": "cell-16",
   "metadata": {},
   "source": [
    "## Conclusão\n",
    "\n",
    "YOLO Custom:\n",
    "- 30 épocas já dá bons resultados (~85-90% mAP)\n",
    "- 60 épocas melhora pouco, mas leva 2x mais tempo\n",
    "- Inferência ~25-30ms (pouco mais lento que esperado)\n",
    "- Treino leva 15-30 minutos dependendo das épocas\n",
    "\n",
    "Comparado ao YOLO tradicional:\n",
    "- Muito mais preciso para nosso problema específico\n",
    "- Detecta coffee e mountains corretamente\n",
    "- Vale o tempo de treino"
   ]
  }
 ],
 "metadata": {
  "kernelspec": {
   "display_name": "Python 3",
   "language": "python",
   "name": "python3"
  },
  "language_info": {
   "name": "python",
   "version": "3.8.0"
  }
 },
 "nbformat": 4,
 "nbformat_minor": 5
}
