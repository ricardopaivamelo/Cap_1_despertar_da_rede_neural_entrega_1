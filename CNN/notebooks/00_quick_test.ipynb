{
 "cells": [
  {
   "cell_type": "markdown",
   "metadata": {},
   "source": [
    "# Teste Rápido - YOLO vs CNN\n",
    "\n",
    "Comparação prática: qual é mais rápido e preciso?"
   ]
  },
  {
   "cell_type": "code",
   "execution_count": null,
   "metadata": {},
   "outputs": [],
   "source": [
    "# Setup\n",
    "import sys\n",
    "sys.path.append('../src')\n",
    "\n",
    "from pathlib import Path\n",
    "import time\n",
    "import numpy as np\n",
    "import torch\n",
    "from ultralytics import YOLO\n",
    "\n",
    "from data.dataset import create_dataloaders\n",
    "from models.cnn_scratch import SimpleCNN, CNNTrainer\n",
    "\n",
    "device = 'cuda' if torch.cuda.is_available() else 'cpu'\n",
    "print(f\"Device: {device}\")"
   ]
  },
  {
   "cell_type": "markdown",
   "metadata": {},
   "source": [
    "## 1. YOLO Tradicional\n",
    "\n",
    "Modelo pré-treinado, zero setup."
   ]
  },
  {
   "cell_type": "code",
   "execution_count": null,
   "metadata": {},
   "outputs": [],
   "source": [
    "# Carregar YOLO\n",
    "yolo = YOLO('yolov8n.pt')\n",
    "\n",
    "# Testar velocidade\n",
    "test_img = str(list(Path('../Coffee/Teste').glob('*.jpg'))[0])\n",
    "\n",
    "_ = yolo.predict(test_img, device=device, verbose=False)  # warm-up\n",
    "\n",
    "times = []\n",
    "for _ in range(20):\n",
    "    start = time.time()\n",
    "    _ = yolo.predict(test_img, device=device, verbose=False)\n",
    "    times.append((time.time() - start) * 1000)\n",
    "\n",
    "yolo_time = np.mean(times)\n",
    "print(f\"YOLO: {yolo_time:.2f}ms por imagem\")"
   ]
  },
  {
   "cell_type": "markdown",
   "metadata": {},
   "source": [
    "## 2. CNN do Zero\n",
    "\n",
    "Treinar rápido (5 épocas) e comparar."
   ]
  },
  {
   "cell_type": "code",
   "execution_count": null,
   "metadata": {},
   "outputs": [],
   "source": [
    "# Carregar dados\n",
    "dataloaders, _ = create_dataloaders('.', batch_size=16, img_size=(224,224), num_workers=0)\n",
    "\n",
    "# Criar CNN\n",
    "model = SimpleCNN(num_classes=2).to(device)\n",
    "trainer = CNNTrainer(model, device=device)\n",
    "\n",
    "# Treinar 5 épocas\n",
    "print(\"\\nTreinando...\")\n",
    "history = trainer.train(dataloaders['train'], dataloaders['val'], epochs=5)\n",
    "\n",
    "# Testar\n",
    "y_true, y_pred = trainer.predict(dataloaders['test'])\n",
    "from sklearn.metrics import accuracy_score\n",
    "cnn_acc = accuracy_score(y_true, y_pred)\n",
    "\n",
    "# Velocidade\n",
    "model.eval()\n",
    "test_batch = next(iter(dataloaders['test']))\n",
    "test_input = test_batch[0][:1].to(device)\n",
    "\n",
    "with torch.no_grad():\n",
    "    for _ in range(10):\n",
    "        _ = model(test_input)  # warm-up\n",
    "\n",
    "times = []\n",
    "with torch.no_grad():\n",
    "    for _ in range(100):\n",
    "        start = time.time()\n",
    "        _ = model(test_input)\n",
    "        times.append((time.time() - start) * 1000)\n",
    "\n",
    "cnn_time = np.mean(times)\n",
    "\n",
    "print(f\"\\nCNN Accuracy: {cnn_acc*100:.1f}%\")\n",
    "print(f\"CNN Speed: {cnn_time:.2f}ms por imagem\")"
   ]
  },
  {
   "cell_type": "markdown",
   "metadata": {},
   "source": [
    "## 3. Comparação\n",
    "\n",
    "Quem ganhou?"
   ]
  },
  {
   "cell_type": "code",
   "execution_count": null,
   "metadata": {},
   "outputs": [],
   "source": [
    "print(\"=\"*50)\n",
    "print(\"RESULTADOS\")\n",
    "print(\"=\"*50)\n",
    "print(f\"YOLO:  {yolo_time:.2f}ms\")\n",
    "print(f\"CNN:   {cnn_time:.2f}ms\")\n",
    "print(f\"\\nCNN é {yolo_time/cnn_time:.0f}x mais rápida!\")\n",
    "print(f\"CNN Accuracy: {cnn_acc*100:.0f}%\")\n",
    "print(\"=\"*50)"
   ]
  },
  {
   "cell_type": "markdown",
   "metadata": {},
   "source": [
    "## Conclusão\n",
    "\n",
    "**Para classificação simples (Coffee vs Mountains):**\n",
    "- CNN é muito mais rápida\n",
    "- CNN tem boa precisão com poucos dados\n",
    "- YOLO é melhor quando precisa detectar múltiplos objetos\n",
    "\n",
    "**Escolha CNN se**: Classificação rápida é prioridade  \n",
    "**Escolha YOLO se**: Precisa detectar objetos e suas posições"
   ]
  }
 ],
 "metadata": {
  "kernelspec": {
   "display_name": "Python 3",
   "language": "python",
   "name": "python3"
  },
  "language_info": {
   "name": "python",
   "version": "3.12.0"
  }
 },
 "nbformat": 4,
 "nbformat_minor": 4
}
