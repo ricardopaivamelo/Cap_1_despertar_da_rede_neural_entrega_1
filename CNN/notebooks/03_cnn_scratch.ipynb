{
 "cells": [
  {
   "cell_type": "markdown",
   "id": "cell-0",
   "metadata": {},
   "source": [
    "# 03 - CNN do Zero\n",
    "\n",
    "Criar e treinar uma CNN do zero para classificação Coffee vs Mountains."
   ]
  },
  {
   "cell_type": "markdown",
   "id": "cell-1",
   "metadata": {},
   "source": [
    "## Setup"
   ]
  },
  {
   "cell_type": "code",
   "execution_count": null,
   "id": "cell-2",
   "metadata": {},
   "outputs": [],
   "source": [
    "import sys\n",
    "sys.path.append('../src')\n",
    "\n",
    "from pathlib import Path\n",
    "import time\n",
    "import numpy as np\n",
    "import matplotlib.pyplot as plt\n",
    "import torch\n",
    "import json\n",
    "\n",
    "from data.dataset import create_dataloaders\n",
    "from models.cnn_scratch import SimpleCNN, CNNTrainer\n",
    "from utils.visualization import plot_training_history, plot_confusion_matrix\n",
    "from utils.metrics import calculate_metrics, Timer\n",
    "\n",
    "DEVICE = 'cuda' if torch.cuda.is_available() else 'cpu'\n",
    "print(f\"Device: {DEVICE}\")"
   ]
  },
  {
   "cell_type": "code",
   "execution_count": null,
   "id": "cell-3",
   "metadata": {},
   "outputs": [],
   "source": [
    "ROOT_DIR = Path('../')\n",
    "RESULTS_DIR = ROOT_DIR / 'results' / 'cnn_scratch'\n",
    "MODELS_DIR = ROOT_DIR / 'models'\n",
    "RESULTS_DIR.mkdir(parents=True, exist_ok=True)\n",
    "MODELS_DIR.mkdir(parents=True, exist_ok=True)\n",
    "\n",
    "# Hiperparâmetros\n",
    "BATCH_SIZE = 32\n",
    "IMG_SIZE = (224, 224)\n",
    "EPOCHS = 30\n",
    "LR = 0.001"
   ]
  },
  {
   "cell_type": "markdown",
   "id": "cell-4",
   "metadata": {},
   "source": [
    "## Carregar Dataset"
   ]
  },
  {
   "cell_type": "code",
   "execution_count": null,
   "id": "cell-5",
   "metadata": {},
   "outputs": [],
   "source": [
    "dataloaders, datasets = create_dataloaders(\n",
    "    root_dir=str(ROOT_DIR),\n",
    "    batch_size=BATCH_SIZE,\n",
    "    img_size=IMG_SIZE,\n",
    "    augment=True,\n",
    "    num_workers=2\n",
    ")\n",
    "\n",
    "print(f\"Train: {len(datasets['train'])} | Val: {len(datasets['val'])} | Test: {len(datasets['test'])}\")\n",
    "print(f\"Classes: {datasets['train'].classes}\")"
   ]
  },
  {
   "cell_type": "markdown",
   "id": "cell-6",
   "metadata": {},
   "source": [
    "## Criar Modelo"
   ]
  },
  {
   "cell_type": "code",
   "execution_count": null,
   "id": "cell-7",
   "metadata": {},
   "outputs": [],
   "source": [
    "model = SimpleCNN(num_classes=2, dropout=0.5).to(DEVICE)\n",
    "print(f\"Modelo criado: {model.get_num_parameters():,} parâmetros\")"
   ]
  },
  {
   "cell_type": "markdown",
   "id": "cell-8",
   "metadata": {},
   "source": [
    "## Treinar"
   ]
  },
  {
   "cell_type": "code",
   "execution_count": null,
   "id": "cell-9",
   "metadata": {},
   "outputs": [],
   "source": [
    "trainer = CNNTrainer(model=model, device=DEVICE, learning_rate=LR)\n",
    "\n",
    "print(f\"Treinando por {EPOCHS} épocas...\\n\")\n",
    "\n",
    "start = time.time()\n",
    "history = trainer.train(\n",
    "    train_loader=dataloaders['train'],\n",
    "    val_loader=dataloaders['val'],\n",
    "    epochs=EPOCHS\n",
    ")\n",
    "train_time = time.time() - start\n",
    "\n",
    "print(f\"\\nTempo de treino: {train_time/60:.1f} minutos\")"
   ]
  },
  {
   "cell_type": "markdown",
   "id": "cell-10",
   "metadata": {},
   "source": [
    "## Visualizar Treino"
   ]
  },
  {
   "cell_type": "code",
   "execution_count": null,
   "id": "cell-11",
   "metadata": {},
   "outputs": [],
   "source": [
    "fig = plot_training_history(history, metrics=['train_loss', 'train_acc'])\n",
    "plt.savefig(RESULTS_DIR / 'training_history.png', dpi=150, bbox_inches='tight')\n",
    "plt.show()\n",
    "\n",
    "print(f\"\\nÚltima época:\")\n",
    "print(f\"  Train Acc: {history['train_acc'][-1]:.1f}%\")\n",
    "print(f\"  Val Acc: {history['val_acc'][-1]:.1f}%\")"
   ]
  },
  {
   "cell_type": "markdown",
   "id": "cell-12",
   "metadata": {},
   "source": [
    "## Testar"
   ]
  },
  {
   "cell_type": "code",
   "execution_count": null,
   "id": "cell-13",
   "metadata": {},
   "outputs": [],
   "source": [
    "y_true, y_pred = trainer.predict(dataloaders['test'])\n",
    "metrics = calculate_metrics(y_true, y_pred, average='binary')\n",
    "\n",
    "print(\"\\nMétricas no teste:\")\n",
    "print(f\"  Accuracy: {metrics['accuracy']*100:.1f}%\")\n",
    "print(f\"  Precision: {metrics['precision']:.3f}\")\n",
    "print(f\"  Recall: {metrics['recall']:.3f}\")\n",
    "print(f\"  F1-Score: {metrics['f1_score']:.3f}\")"
   ]
  },
  {
   "cell_type": "markdown",
   "id": "cell-14",
   "metadata": {},
   "source": [
    "## Matriz de Confusão"
   ]
  },
  {
   "cell_type": "code",
   "execution_count": null,
   "id": "cell-15",
   "metadata": {},
   "outputs": [],
   "source": [
    "from sklearn.metrics import confusion_matrix\n",
    "\n",
    "cm = confusion_matrix(y_true, y_pred)\n",
    "fig = plot_confusion_matrix(cm, datasets['train'].classes)\n",
    "plt.savefig(RESULTS_DIR / 'confusion_matrix.png', dpi=150, bbox_inches='tight')\n",
    "plt.show()"
   ]
  },
  {
   "cell_type": "markdown",
   "id": "cell-16",
   "metadata": {},
   "source": [
    "## Medir Velocidade"
   ]
  },
  {
   "cell_type": "code",
   "execution_count": null,
   "id": "cell-17",
   "metadata": {},
   "outputs": [],
   "source": [
    "model.eval()\n",
    "test_batch = next(iter(dataloaders['test']))\n",
    "test_img = test_batch[0][:1].to(DEVICE)\n",
    "\n",
    "# Warm-up\n",
    "with torch.no_grad():\n",
    "    for _ in range(10):\n",
    "        _ = model(test_img)\n",
    "\n",
    "# Medir\n",
    "times = []\n",
    "with torch.no_grad():\n",
    "    for _ in range(100):\n",
    "        with Timer() as t:\n",
    "            _ = model(test_img)\n",
    "        times.append(t.get_elapsed_time() * 1000)\n",
    "\n",
    "avg_time = np.mean(times)\n",
    "print(f\"\\nInferência: {avg_time:.2f}ms (média de 100 execuções)\")"
   ]
  },
  {
   "cell_type": "markdown",
   "id": "cell-18",
   "metadata": {},
   "source": [
    "## Salvar Resultados"
   ]
  },
  {
   "cell_type": "code",
   "execution_count": null,
   "id": "cell-19",
   "metadata": {},
   "outputs": [],
   "source": [
    "# Salvar modelo\n",
    "torch.save({\n",
    "    'model_state_dict': model.state_dict(),\n",
    "    'history': history,\n",
    "    'test_metrics': metrics\n",
    "}, MODELS_DIR / 'cnn_scratch_best.pth')\n",
    "\n",
    "# Salvar métricas\n",
    "results = {\n",
    "    'model': 'CNN from Scratch',\n",
    "    'parameters': model.get_num_parameters(),\n",
    "    'training': {\n",
    "        'epochs': EPOCHS,\n",
    "        'training_time_minutes': train_time / 60,\n",
    "        'final_train_acc': history['train_acc'][-1],\n",
    "        'final_val_acc': history['val_acc'][-1]\n",
    "    },\n",
    "    'test': metrics,\n",
    "    'inference': {\n",
    "        'avg_time_ms': avg_time\n",
    "    }\n",
    "}\n",
    "\n",
    "with open(RESULTS_DIR / 'metrics_summary.json', 'w') as f:\n",
    "    json.dump(results, f, indent=2)\n",
    "\n",
    "print(f\"\\nResultados salvos em: {RESULTS_DIR}\")"
   ]
  },
  {
   "cell_type": "markdown",
   "id": "cell-20",
   "metadata": {},
   "source": [
    "## Conclusão\n",
    "\n",
    "CNN do zero:\n",
    "- Treino rápido (~10-20 min)\n",
    "- Inferência muito rápida (~1-5ms)\n",
    "- Boa precisão (depende do dataset)\n",
    "- Controle total da arquitetura\n",
    "\n",
    "Comparado ao YOLO:\n",
    "- Muito mais rápida na inferência\n",
    "- Só classifica (não detecta objetos)\n",
    "- Modelo mais leve\n",
    "- Ideal para problemas de classificação simples"
   ]
  }
 ],
 "metadata": {
  "kernelspec": {
   "display_name": "Python 3",
   "language": "python",
   "name": "python3"
  },
  "language_info": {
   "name": "python",
   "version": "3.8.0"
  }
 },
 "nbformat": 4,
 "nbformat_minor": 5
}
